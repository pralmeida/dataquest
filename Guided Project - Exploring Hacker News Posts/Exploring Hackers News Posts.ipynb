{
 "cells": [
  {
   "cell_type": "markdown",
   "metadata": {},
   "source": [
    "# Exploring Hacker News Posts\n",
    "\n",
    "In this project, we'll work with a data set of submissions to popular technology site [Hacker News](https://news.ycombinator.com/).\n",
    "\n",
    "![hacker news logo](https://s3.amazonaws.com/dq-content/354/hacker_news.jpg \"hacker news logo\")\n",
    "\n",
    "Hacker news is a site started by the startup incubator [Y Combinator](https://www.ycombinator.com/), where user-submitted stories (known as 'posts') are voted and commented upon, similar to reddit. Hacker News is extremely popular in technology and startup circles, and posts that make it to the top of Hacker News' listings can get hundreds of thousands of visitors as a result.\n",
    "\n",
    "You can find the dataset [here](https://www.kaggle.com/hacker-news/hacker-news-posts), but note that it has been reduced from almost 300,000 rows to approximately 20,000 rows by removing all submissions that did not receive any comments, and then randomly sampling from the remaining submisstions. Below are the descriptions of the columns:\n",
    "- <code style=\"color:red\">id</code> - The unique identifier from Hacker News for the post\n",
    "- <code style=\"color:red\">title</code> - The title of the post\n",
    "- <code style=\"color:red\">url</code> - The URL that the post links to, if the post has a URL\n",
    "- <code style=\"color:red\">num_points</code> - The number of points the post acquired, calculated as the total number of upvotes minus the total number of downvotes\n",
    "- <code style=\"color:red\">num_comments</code> - The number of comments that were made on the post\n",
    "- <code style=\"color:red\">author</code> - The username of the person who submitted the post\n",
    "- <code style=\"color:red\">created_at</code> - The date and time at which the post was submitted\n"
   ]
  },
  {
   "cell_type": "code",
   "execution_count": null,
   "metadata": {},
   "outputs": [],
   "source": []
  }
 ],
 "metadata": {
  "kernelspec": {
   "display_name": "Python 3",
   "language": "python",
   "name": "python3"
  },
  "language_info": {
   "codemirror_mode": {
    "name": "ipython",
    "version": 3
   },
   "file_extension": ".py",
   "mimetype": "text/x-python",
   "name": "python",
   "nbconvert_exporter": "python",
   "pygments_lexer": "ipython3",
   "version": "3.7.3"
  }
 },
 "nbformat": 4,
 "nbformat_minor": 2
}
