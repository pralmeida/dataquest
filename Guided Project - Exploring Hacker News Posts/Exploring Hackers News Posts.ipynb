{
 "cells": [
  {
   "cell_type": "markdown",
   "metadata": {},
   "source": [
    "# Exploring Hacker News Posts\n",
    "\n",
    "In this project, we'll work with a data set of submissions to popular technology site [Hacker News](https://news.ycombinator.com/).\n",
    "\n",
    "![hacker news logo](https://s3.amazonaws.com/dq-content/354/hacker_news.jpg \"hacker news logo\")\n",
    "\n",
    "Hacker news is a site started by the startup incubator [Y Combinator](https://www.ycombinator.com/), where user-submitted stories (known as 'posts') are voted and commented upon, similar to reddit. Hacker News is extremely popular in technology and startup circles, and posts that make it to the top of Hacker News' listings can get hundreds of thousands of visitors as a result.\n",
    "\n",
    "You can find the dataset [here](https://www.kaggle.com/hacker-news/hacker-news-posts), but note that it has been reduced from almost 300,000 rows to approximately 20,000 rows by removing all submissions that did not receive any comments, and then randomly sampling from the remaining submisstions. Below are the descriptions of the columns:\n",
    "- <code style=\"color:red\">id</code> - The unique identifier from Hacker News for the post\n",
    "- <code style=\"color:red\">title</code> - The title of the post\n",
    "- <code style=\"color:red\">url</code> - The URL that the post links to, if the post has a URL\n",
    "- <code style=\"color:red\">num_points</code> - The number of points the post acquired, calculated as the total number of upvotes minus the total number of downvotes\n",
    "- <code style=\"color:red\">num_comments</code> - The number of comments that were made on the post\n",
    "- <code style=\"color:red\">author</code> - The username of the person who submitted the post\n",
    "- <code style=\"color:red\">created_at</code> - The date and time at which the post was submitted\n",
    "\n",
    "We're speciffically interested in posts whose titles begin with either <code style=\"color:red\">Ask HN</code> or <code style=\"color:red\">Show HN</code>. Users submit <code style=\"color:red\">Ask HN</code> posts to ask the Hacker News community a specific question. Likewise, users submit <code style=\"color:red\">Show HN</code> posts to show the Hacker News community a project, product, or just generally something interesting.\n",
    "\n",
    "We'll compare these two types of posts to determine the followin:\n",
    "- Do <code style=\"color:red\">Ask HN</code> or <code style=\"color:red\">Show HN</code> receive more comments on average\n",
    "- Do posts created at a certain time receive more comments on average?\n",
    "\n",
    "\n",
    "# Introduction\n",
    "\n",
    "Let's start by importing the libraries we need and reading the data set into a list of lists. We'll also extract the headers to their own list."
   ]
  },
  {
   "cell_type": "code",
   "execution_count": 12,
   "metadata": {},
   "outputs": [
    {
     "name": "stdout",
     "output_type": "stream",
     "text": [
      "['12224879', 'Interactive Dynamic Video', 'http://www.interactivedynamicvideo.com/', '386', '52', 'ne0phyte', '8/4/2016 11:52'] \n",
      "\n"
     ]
    },
    {
     "data": {
      "text/plain": [
       "[['12224879',\n",
       "  'Interactive Dynamic Video',\n",
       "  'http://www.interactivedynamicvideo.com/',\n",
       "  '386',\n",
       "  '52',\n",
       "  'ne0phyte',\n",
       "  '8/4/2016 11:52'],\n",
       " ['10975351',\n",
       "  'How to Use Open Source and Shut the Fuck Up at the Same Time',\n",
       "  'http://hueniverse.com/2016/01/26/how-to-use-open-source-and-shut-the-fuck-up-at-the-same-time/',\n",
       "  '39',\n",
       "  '10',\n",
       "  'josep2',\n",
       "  '1/26/2016 19:30'],\n",
       " ['11964716',\n",
       "  \"Florida DJs May Face Felony for April Fools' Water Joke\",\n",
       "  'http://www.thewire.com/entertainment/2013/04/florida-djs-april-fools-water-joke/63798/',\n",
       "  '2',\n",
       "  '1',\n",
       "  'vezycash',\n",
       "  '6/23/2016 22:20'],\n",
       " ['11919867',\n",
       "  'Technology ventures: From Idea to Enterprise',\n",
       "  'https://www.amazon.com/Technology-Ventures-Enterprise-Thomas-Byers/dp/0073523429',\n",
       "  '3',\n",
       "  '1',\n",
       "  'hswarna',\n",
       "  '6/17/2016 0:01'],\n",
       " ['10301696',\n",
       "  'Note by Note: The Making of Steinway L1037 (2007)',\n",
       "  'http://www.nytimes.com/2007/11/07/movies/07stein.html?_r=0',\n",
       "  '8',\n",
       "  '2',\n",
       "  'walterbell',\n",
       "  '9/30/2015 4:12']]"
      ]
     },
     "execution_count": 12,
     "metadata": {},
     "output_type": "execute_result"
    }
   ],
   "source": [
    "import csv\n",
    "\n",
    "hn = open('hacker_news.csv', encoding='utf-8')\n",
    "hn = csv.reader(hn)\n",
    "hn = list(hn)\n",
    "\n",
    "headers = hn[1]\n",
    "hn = hn[1:]\n",
    "\n",
    "print(headers, '\\n')\n",
    "\n",
    "hn[:5]\n",
    "\n"
   ]
  },
  {
   "cell_type": "code",
   "execution_count": null,
   "metadata": {},
   "outputs": [],
   "source": []
  }
 ],
 "metadata": {
  "kernelspec": {
   "display_name": "Python 3",
   "language": "python",
   "name": "python3"
  },
  "language_info": {
   "codemirror_mode": {
    "name": "ipython",
    "version": 3
   },
   "file_extension": ".py",
   "mimetype": "text/x-python",
   "name": "python",
   "nbconvert_exporter": "python",
   "pygments_lexer": "ipython3",
   "version": "3.7.3"
  }
 },
 "nbformat": 4,
 "nbformat_minor": 2
}
